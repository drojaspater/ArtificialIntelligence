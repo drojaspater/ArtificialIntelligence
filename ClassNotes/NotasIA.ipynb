{
 "cells": [
  {
   "cell_type": "markdown",
   "id": "4c0b26e9",
   "metadata": {},
   "source": [
    "# Notas de Inteligencia Artificial \n",
    "Estas notas se realizan con respecto a lo enseñado por el profesor Alvaro Mauricio Montenegro Diaz y con respecto a sus notas de clase del curso del **Inteligencia Artificial** de la Universidad Nacional de Colombia. \n",
    "\n",
    "---"
   ]
  },
  {
   "cell_type": "markdown",
   "id": "e4c51e3b",
   "metadata": {},
   "source": [
    "## Redes Neuronales\n",
    "Como tal, las redes neuronals buscan simular el funcionamiento de las redes biologicas en los organismos vivos, por esto es importante que recordemos algunas de las caracteristicas de las neuronas biologicas segun los biologos:\n",
    "* **Función de la Dendrita.** Recibe las señales de otras neuronas.\n",
    "* **Soma (cuerpo celular).** Suma todas las señales entrantes para generar una señal total de entrada(input).\n",
    "* **Estructura del Axón.** Cuando la suma sobrepasa un cierto umbral numérico, la neurona se activa, dispara y la señal viaja a través del axón hacia otras neuronas.\n",
    "* **Trabajo de la Sinápsis.** Es el punto donde se realiza la interconexión de una neurona con otras neuronas. La cantidad de la señal transmitida depende en la fuerza (peso sináptico) de las conexiones. Las conexiones pueden ser inhibidoras (disminuyendo la fuerza) o de excitación (aumentando la fuerza) en principio.\n",
    "\n",
    "Estas acciones podemos asociarlas a una transformación de ciertos parametros, donde hay una información de llegada por medio de las dendritas, luego es transformada y sumada en el cuerpo celular, para ser transmitada mediante una información de salida por medio del axón, siendo la sinápsis la forma en que se comparten información las neuronas. Así es como funciona una red neuronal simple, tal que:\n",
    "* Las dendritas in las Redes Neuronales Biológicas son un análogo a las entradas conteniendo un peso especifico basada en la interconexión \"sináptica\" presente en la Red Neuronal Artificial.\n",
    "* El cuerpo celular es comparable a la unidad artificial llamada \"neurona\" en una Red Neuronal Artificial, que también comprende la suma de señales y umbral de activación.\n",
    "* La salida de los Axones (presentes en la sinápsis) son el análogo de los datos de salida en la Red Neuronal Artificial.\n",
    "\n",
    "Para empezar a trabajar con redes, es importante tener en claro que trabajar con una sola neurona limita las capacidades de nuestra red. Por este motivo, se suelen utilizar multiples neuronas por capas como se muestra acontinuación.\n",
    "\n",
    "![Esquema de positron con multiples capas ocultas](https://iapunk.es/wp-content/uploads/2022/11/matias-alvarado.png)\n",
    "\n",
    "Hay tres partes normalmente en una red neuronal : una capa de entrada, con unidades que representan los campos de entrada; una o varias capas ocultas; y una capa de salida, con una unidad o unidades que representa el campo o los campos de destino. Las unidades se conectan con fuerzas de conexión variables (o ponderaciones). Los datos de entrada se presentan en la primera capa, y los valores se propagan desde cada neurona hasta cada neurona de la capa siguiente. al final, se envía un resultado desde la capa de salida.\n",
    "\n",
    "Podemos entonces ver las redes neuronales como mapeos a los que le hacemos entrar una información inicial y nos devuelven un resultado final. El teorema de representación universal \"The Universal Approximation Theorem\n",
    "\" nos garantiza que cualquier función $Y=Y(x)$ puede ser representada por una red, incluso para mapeos complejos.\n",
    "\n",
    "La red neuronal más conocida es el **perceptron**, un tipo de red que conciste en distintas neuronas que realizan regresiones de los datos variando ciertos parametros que deben ser maximizados por medio de  algun metodo maximal como lo es el del gradiente descendiente y un metodo de comparación mediante una función de activación que nos permite saber cuando tendremos el valor deseado por la red. En general se trata de un algoritmo para el aprendizaje supervisado de clasificadores binarios.\n",
    "\n",
    "Sin embargo, el perceptron no es la unica red neuronal existente, mayor mente conocido como arquitectura. Podemos clasificar las arquitecturas de redes neuronales en 5 primordiales:\n",
    "\n",
    "1. **Red neuronal de perceptrón multicapa.** Estas redes utilizan más de una capa oculta de neuronas, a diferencia del perceptrón de una sola capa. También se conocen como Redes neuronales de alimentación profunda.\n",
    "\n",
    "2. **RNA convolucional.** Esta redes se basan en el concepto matemáticos de convolución. Escencialmente se basan en filtros que se aplican por ejemplo a las imágenes. Los filtros son estimados para cada red.\n",
    "\n",
    "3. **Transformer.** Estas redes sons especiales para el tratamiento de procesamiento de lenguaje natural. Recientemente han sido aplicadas a series de tiempo e imágenes. Se basan en el concepto de auto-atención.\n",
    "\n",
    "4. **Red neuronal recurrente.** Tipo de red neuronal en la que las neuronas de cada capa oculta tienen auto-conexiones. Las redes neuronales recurrentes poseen memoria. En cualquier caso, la neurona de capa oculta recibe la activación de la siguiente capa, así como su valor de activación anterior. Muy usadas principalemnte en series de tiempo. Los modelos más conocidos con LSTM y GRU.\n",
    "\n",
    "5. **Red autocodificadora o auto-encoder.** Es escencialmente un perceptron multicapa de múltiples usos como parte de otras arquitecturas. Por sí mismas son útiles para hacer reducción de dimensión de los datos.\n",
    "\n",
    "---\n"
   ]
  },
  {
   "cell_type": "markdown",
   "id": "76c4a0ba",
   "metadata": {},
   "source": [
    "## Enfoque Matemático de una RNA\n",
    "Ahora tratemos de entender mejor como funciona una red neuronal. Cómo meniconamos incialmente, la red neuronal recibe información incialemte en su capa de entrada, por medio de un vector de información $x=(x_1,\\ldots,x_n)$, de modo que la capa de entrada tendra $n$ neuronas artificales.\n",
    "\n",
    "Cada componente $x_i$ de la capa de entrada se multiplica por el peso correspondiente $w_i$, donde los pesos son la información utilizada por la red neuronal para resolver un problema específico. Estos pesos deben aprenderse (ajustarse, estimarse) en el paso de entrenamiento, como se menciono anteriormente poara el perceptron. Los pesos representan el conocimiento que tiene lared del problema en cuestión. \n",
    "\n",
    "Ahora, los pesos y la formación de entrada deben ser combiandos mediante un producto escalar, de modo que la información de salida sera una combinación lineal de la información transformada por el perceptron, y se agrefa un **sesgo** o **bias** que ayuda a acomadar los datos y el cual tambien puede ser variado en caso de ser requerido. \n",
    "\n",
    "La suma es entonces un número real $z=\\sum_i x_iw_i+b$ esta suma se transforma a través de una **función de activación**, digamos $g()$, para obtener la salida neta $x'=g(z)$. La función de activación determina el comportamiento de la neurona. La siguiente figura muestra como funciona lo anterior para una red con capas ocultas.\n",
    "\n",
    "![Funcionamiento de redes neuronales con capas ocultas](https://raw.githubusercontent.com/AprendizajeProfundo/Diplomado-Avanzado/c01c908a0388a58b45cac707cb716438197a2d88/Redes%20Neuronales/Imagenes/ANN_Capa_Oculta.png)\n",
    "\n",
    "Note entonces, que en general los datos que entran antes de aplicar la función de activación son transformaciones afines de los datos de entrada, de modo que si utilizamos multiples neuronas con solo esta información de saldia, solo podremos replicar comportamientos lineales, por lo que la función de activación permite realizar tareas más complejas. \n",
    "\n",
    "##Optimización \n",
    "Para que la red neuroal funcione, nuetra tarea es hacer que los parametros de la red se ajusten a los parametros del modelo utilizando los datos de entrada, de tal manera que esto lo realice la propia red neuronal de manera supervisada. Para esto, definimos lo que se conoce como una **función de costo** o **función de pérdida**, la acual se encarga de estimar la precisión del perceptron con respecto al objetivo. Por lo que lo unico que falta por hacer es minimizar la función de costo con el objetivo de encontrar los parametros que minimizan el error.\n",
    "\n",
    "La función de costo puede tener multiples formas dependiendo del problema que estemos tratando, como podria ser el primer momento (valor esperado) o el segundo momento (variancia), dependiendo del tipo de problema de optimización que nos encontremos. Esto nos conduce a un nuevo problema, el cual consiste en como calcular los gradientes descendientes de la función de costo sabiendo que estos apunten en la dirección en que se encuentran los minimos locales o globales de la misma, siendo imposible saber en cual de estos nos encontramos. \n",
    "\n",
    "## Métodos de optimización basados en el gradiente\n",
    "Entonces, en resumen, el problema de aprendizaje se reduce a un problema de optimización. El metodo general del **gradiente descendiente**, implica utilizar $-\\nabla_x f(x)$ para buscar minimos locales, de modo que el metodo se escribe como:\n",
    "\n",
    "$$ x^{(k+1)} = x^{(k)} - \\eta_k \\nabla_x f(x^{(k)})  $$\n",
    "\n",
    "donde los valores $\\eta_k$ se suele llamar **tasa de aprendizaje** la cual se encarga de controlar el tamaño de paso de tal forma que logremos ubicarnos cerca del minimo local deseado.\n",
    "\n",
    "###  Gradiente descendiente en lote\n",
    "Este es un metodo que consiste en utilizar el metodo clasico vainilla pero con la diferencia de que se realiza la optimización por lotes, esto con el objetivo de reducir el esfuerzo computacional que requiere optmizar un conjunto de datos muy grande. De esta forma, si escogemos el conjunto de datos de entrenamiento $(\\mathbf{x}_{train},\\mathbf{y}_{train})$ y definimos a $\\mathfrak{L}$ como la función de pérdida, entonces obtendremos \n",
    "$$ \\mathbf{\\theta}_{k+1} = \\mathbf{\\theta}_{k}  -\\eta_k \\nabla_{\\mathbf{\\theta}}\\mathfrak{L}(\\mathbf{x}_{train},\\mathbf{y}_{train},\\mathbf{\\theta}_{k})$$\n",
    "donde $\\mathbf{\\theta}$ es el conjunto de datos de entrenamiento completo. El principal problema de resolver el gradiente descendiente es como encontrar la tasa de aprendizake $\\eta_k$ apropieda para el entrenamiento. note que la tasa de aprendizaje toma valores entre $0$ y $1$ siendo cero el caso extremo en que la neurona no se ajusta y uno el caso en que se hace una mayor variación de los parametros.\n",
    "### Gradiente descendiente estocástico\n",
    "Una variación del metodo de gradiente descendiente en lote es el  Gradiente descendiente estocástico, el cual cosnsiste en escoger los paramatros de entrenamiento $(\\mathbf{x}_{train},\\mathbf{y}_{train})$ seleccionadolos de manera al azar en cada época. \n",
    "\n",
    "Teniendo en cuenta los dos metodos anteriores, existen variaciones como lo puede ser el escoger mini-lotes que hacen de la optimización mucho más eficiente, sin embargo dos de los metodos más interesantes son el Método del momento y el metodo RMSprop.\n",
    "\n",
    "### Método del momento\n",
    "Los metodos del gradiente tienen complicaciónes en los puntos donde el gradiente cambia de forma abrupta tipica de los minimos locales, por esto el método del momento consiste en amortiguar las oscilaciones en torno al minimo local haciendo que el proceso de optimización se acelere, esto lo hace sumando una fracción $\\lambda$ del vector de actualización del paso anterior al vector de actualización actual. De forma que tenemos \n",
    "\n",
    "\\begin{align}\n",
    " \\mathbf{v}_{k} &= \\lambda  \\mathbf{v}_{k-1} + \\eta_k \\nabla_{\\mathbf{\\theta}}\\mathfrak{L}(\\mathbf{x}_{train},\\mathbf{y}_{train},\\mathbf{\\theta}_{k})\\\\\n",
    "\\mathbf{\\theta}_{k+1} &= \\mathbf{\\theta}_{k}  -  \\mathbf{v}_{k} \n",
    "\\end{align}\n",
    "donde $\\lambda<1$, usualemente igual a $0.9$.\n",
    "\n",
    "## RMSprop\n",
    "en este metodo dividimos la tasa de aprendizaje en cada caso por un promedio del cuadrado de los componente del gradiente del paso anterior. Por cada componente $\\theta$ del vector de parametros $\\mathbf{\\theta}$, sea $g$la respectiva componente del gradiente asociada a $\\theta$, entonces el métodos es como sigue:\n",
    "1. $E[g^2]_t=\\lambda E[g^2]_{t-1} + (1-\\lambda)g^2_t $\n",
    "2. $\\theta_{t-+1}=\\theta_t - \\frac{\\lambda}{\\sqrt{E[g^2]_{t+\\epsilon}}}g_t$\n",
    "\n",
    "donde el termino $\\epsilon>0$ ayuda a evitar diviones por cero.\n",
    "\n",
    "---"
   ]
  },
  {
   "cell_type": "markdown",
   "id": "2f472a4a",
   "metadata": {},
   "source": [
    "## Teoría de la Información\n",
    "Las bases de la teoria de la información consisten en analizar la cantidad de información otorgada por un mensaje dependiendo del grado de sorpresa del mensaje. \n",
    "\n",
    "En general, si un evento tiene una probabilidad alta, entonces decimos que el evento **no es sorprendente**, por el contrario, eventos con baja probabilidad son eventos con un **alto grado de sorpresa**. Definido de una manera un poco más formal, decimos que el contenido de informacion  es la cantidad de información obtenida cuando se muestra una distribución de probabilidad, donde el contenido de información es una variable aleatoria definida para cualquier evento en la teoría de la probabilidad.\n",
    "\n",
    "Teniendo en cuenta lo anterior, el valor esperado de la auto-información es lo que se conoce como **entropia**, la cual nos da información sobre la incertidumbre del ensamble estadistico, es decir, desde un punto de vista estadistico nos brinda la información promedio de un ensable y desde un punto de vista fisíco nos habla sobre el grado de \n",
    "desinformación del sistema. los ensambles con mayor incertidumbre son aquellos que asignan igual probabilidad para todo evento, es decir, distribuciónes de probabilidad constantes, mientras que la incertudumbre es cero solo si la distribución  de probabilidad es unitaria, es decir, conocemos el estado del sistema en su totalidad. \n",
    "\n",
    "Sea $X$ una variable aleatoria discreta con $\\Omega =\\{x_1,x_2,...\\}$ y probabilidades $\\mathcal{p}=\\{p_i|P(X=x_i), i=1,2,...\\}$. Si $x\\in\\Omega$, entonces el **contenido de información** o **información de shanon** del conjunto de eventos ${x}$ viede dado por:\n",
    "\n",
    "$$ I(\\{x\\}) = -\\log_kP(X=x)=\\log_k\\left[\\frac{1}{P(X=x)}\\right] $$\n",
    "\n",
    "donde $k$ es una base que depende de la cardinalidad de $\\Omega$, usualmente cuando trabajamos con datos que solo toman dos valores, tenemso k=2 y la unidad se denomina bit. Para logaritmos Neperianos utilizamos una unidad denominada nat.\n",
    "\n",
    "Por otra parte, la **entropía de Shannon** de la variable aleatoria $X$, o lo que es lo mismo, la entropía de la distribución asociada X se define como:\n",
    "$$ H(X)=\\sum_{x\\in\\Omega}P(X=z)I(x)= -\\sum_{x\\in\\Omega}P(X=z)\\log{P(x=x}=-\\sum_{i}p_i\\log{p_i}$$\n",
    "algunos autores llaman a esta cantidad incertidumbre, teniendo en cuenta la interpretación de la entropía. \n",
    "\n",
    "Cuando se trabaja con información en inteligencia artificial, se suele buscar modelos lo menos entropicos posibles, es decir en los que tengamos total certesa de las predicciónes y por ende mayor predectibilidad. Por lo mismo, en algunas ocaciones sera de utilidad minimizar la entropia del modelo mediante metodos de optimización.  \n",
    "\n",
    "Note entonces que para comprender la entropia, es importante estudiar como se comporta la información de un sistema, de modo que:\n",
    " * $I(p)$ por definición disminuye monotónicamente en $p$, de modo que el aumento de la probabilidad de un evento disminuye la información del evento.\n",
    " * $I(p)>0$, siendo siempre una cantidad positiva.\n",
    " * $I(1)=0$, ya que los eventos que siempre ocurren no aportan infromación.\n",
    " * $I(p_1p_2)=I(p_1) + I(p_2)$, la información de eventos independientes es aditiva.\n",
    " \n",
    "La ultima propiedad es en general, una propuedad crucial. Ya que establece que la probabilidad conjunta de fuentes de información independientes comunica tanta información como los eventos individuales por separado. De modo que es la entropia la que nos dice la información promedio de una distribución.\n",
    "\n",
    "---\n",
    "\n",
    "### Dos desigualdades importantes en teoría de la información\n",
    "Es posible comprobar que si $0\\leq p\\leq1$ entonces $0\\leq -p\\log{p}$, de modo que la entropia de Shanon es una cantidad que siempre es positiva. Adicionalmente, si tenemos $p_1,...,p_M$ y $q_1,...,q_M$ números arbitrarios tal que $\\sum_i p_i =1$ y $\\sum_i q_i =1$, entonces \n",
    "$$  -\\sum_{i=1}^M p_i\\log{p_i} = \\sum_{i=1}^M p_i\\log{q_i} $$\n",
    "y la igualdad se cumple solo si $p_i=q_i$ para todo $i=1,...,M$. Esto quiere decir entonces que para dos distribuciones de probabilidad la información promedio siempre es mejor a la información ponderada con la probabilidad de la otra distribución.\n",
    "\n",
    "Con esto, es posible demostrar un teorema del cual ya habiamos hecho mencional, tal que:\n",
    "$$ H(p_1,...,p_M) \\leq \\log{M} $$\n",
    "donde la probabilidad se cumple solo si para todo $p_i$ se cumple que $p_i=1/M$, lo cual quiere decir que las distribuciónes de probabilidad uniforme son las distribuciones de mayor entropia. \n",
    "\n",
    "### Otros tipos de Entropías\n",
    "#### Entropía Conjunta:\n",
    "Sean $X$ y $Y$ variables aleatorias con distribución de probabilidad conjunta\n",
    "$$ p_{ij}=p(x_i,y_j)=p(X=x_i,Y=y_i)$$\n",
    "con $i=1,...,M$ y $J=1,...,L$, entonces la entropía conjunta resulta natural definirla como\n",
    "$$ H(X,Y) = -\\sum_{i,j} p(x_i,y_j)\\log{p(x_i,y_j)} $$\n",
    "de donde se puede verificar que \n",
    "$$H(X,Y)\\leq H(X) + H(Y) $$\n",
    "#### Entropía Condicional:\n",
    "Suponiendo las mismas variables aleatorias $X$ y $Y$ con distribución de probabilidad conjunta $p_{ij}$, entonces si se conoce el valor $X=x_i$, tendremos que la distribución de $Y$ se caracteriza por el conjunto de probabilidades condicionales $p(y_j|x_i)$. De aqui, definimos la entropia condicional de $Y$ dado $X=x_i$ como\n",
    "$$ H(Y|X=x_i) = -\\sum_{j} p(y_j|x_i)\\log{p(y_j|x_i)}$$\n",
    "o por otra parte, puede reescribirse como\n",
    "$$ H(Y|X) = -\\sum_{i,j} p(x_i,y_j)\\log{p(y_j|x_i)}$$\n",
    "y se puede verificar que \n",
    "$$H(X,Y)= H(X) + H(Y|X) = H(Y) + H(X|Y)  $$\n",
    "y\n",
    "$$H(Y|X)\\leq H(X,Y) $$\n",
    "y la igualdad se tiene si y solo si $X$ y $Y$ son independientes.\n",
    "\n",
    "Siendo estas dos cantidades las dos más utilizadas en teoria de la información.\n",
    "\n",
    "---"
   ]
  },
  {
   "cell_type": "markdown",
   "id": "7eb19c66",
   "metadata": {},
   "source": [
    "## Introducción a la API funcional de Keras-3 \n",
    "Ahora empezaremos a estudiar TensorFlow, una libreria de python que nos permite realizar Machine Learning de manera mucho más sencilla que con otras herramientas. \n",
    "\n",
    "Inicialmente, necesitaremos importar ciertas funciones y clases de [TensorFlow](https://www.tensorflow.org/api_docs/python/tf/all_symbols), las cuales se importaran como sigue:"
   ]
  },
  {
   "cell_type": "code",
   "execution_count": 3,
   "id": "e055c557",
   "metadata": {},
   "outputs": [
    {
     "name": "stdout",
     "output_type": "stream",
     "text": [
      "Version de Tensorflow =  2.15.0-dev20230927\n"
     ]
    }
   ],
   "source": [
    "#Importación de metodos de versiones futuras de python\n",
    "from __future__ import absolute_import, division, print_function\n",
    "\n",
    "#Importación de TensorFlow \n",
    "import tensorflow as tf\n",
    "print('Version de Tensorflow = ', tf.__version__)"
   ]
  },
  {
   "cell_type": "markdown",
   "id": "f2384e0d",
   "metadata": {},
   "source": [
    "Ahora trabajaremos con la librería [Keras](https://keras.io/getting_started/), la cual es una libreria de Deep Learninf que trabaja con TensorFlow y la cuale es muy reconocida dentro del mundo de las redes neuronales y que adicionalmente, se encuentra escrita en en codigo abierto."
   ]
  },
  {
   "cell_type": "code",
   "execution_count": 4,
   "id": "243ae410",
   "metadata": {},
   "outputs": [],
   "source": [
    "# Objetos de la API de Keras\n",
    "from tensorflow.keras.layers import Dense, Flatten, Conv2D, Activation, MaxPooling2D\n",
    "from tensorflow.keras.layers import BatchNormalization,GlobalAveragePooling2D, Dropout\n",
    "from tensorflow.keras import Model\n",
    "\n",
    "from tensorflow.keras.utils import plot_model\n",
    "\n",
    "# datos mnist\n",
    "from tensorflow.keras.datasets import mnist"
   ]
  },
  {
   "cell_type": "markdown",
   "id": "1949e862",
   "metadata": {},
   "source": [
    "Lo siguiente, es utilizar los datos conocidos como **mnist**, los cuales consisten en una base de datos de 60000 de 28x28 que sirven de guia para realizar machine learning, para llamar los datos lo haremos de la siguiente manera"
   ]
  },
  {
   "cell_type": "code",
   "execution_count": 5,
   "id": "10b1036b",
   "metadata": {},
   "outputs": [
    {
     "data": {
      "text/plain": [
       "(10000, 28, 28, 1)"
      ]
     },
     "execution_count": 5,
     "metadata": {},
     "output_type": "execute_result"
    }
   ],
   "source": [
    "#Obtención de los datos \n",
    "(x_train, y_train), (x_test, y_test) = mnist.load_data()\n",
    "#Normalicación de las imagenes\n",
    "x_train, x_test = x_train/255.0, x_test/255.0\n",
    "\n",
    "# Agrega una dimensión para manejo de canales de imágenes \n",
    "#en tensorflow\n",
    "x_train = x_train[...,tf.newaxis]\n",
    "x_test = x_test[...,tf.newaxis]\n",
    "\n",
    "x_test.shape"
   ]
  },
  {
   "cell_type": "markdown",
   "id": "f3eebbee",
   "metadata": {},
   "source": [
    "Note que el conjunto de datos lo estamos diviendo en dos tipos, sin embargo usualmente se tienen tres tipos de datos: los **datos de entrenamiento**, los de **prueba** y los de **validación**. Los datos de prueba son aquellos con los cuales se realiza el entrenamiento del modelo, de forma que con esto, por ejemplo, se ajustan los parametros del modelo. Diferentes a estos, los datos de validación suelen utilizarse para ajustar los hiperparametros del modelo (capas ocultas, numero de neuronas, epocas de entrenamiento, etc), de modo que con estos podemos escoger el mejor modelo entrenado. Por ultimo, los datos de pruena mos ofrece los errores reales del modelo seleccionado. Lo normal es que se esocoja el 70% de los datos para entrenamiento, 10% de prueba y 20% de validacion. "
   ]
  },
  {
   "cell_type": "markdown",
   "id": "5faf982b",
   "metadata": {},
   "source": [
    "Lo siguiente es derivar un modelo de la clase Model de la API funcional de Keras."
   ]
  },
  {
   "cell_type": "code",
   "execution_count": 6,
   "id": "844a6375",
   "metadata": {},
   "outputs": [],
   "source": [
    "class MyModel(Model):\n",
    "    def __init__(self):\n",
    "        # Con esto estamos heredando las variables de la\n",
    "        # clase Model, que es la clase padre de MyModel\n",
    "        super(MyModel,self).__init__()\n",
    "        \n",
    "        #Añade una capa convolutiva a una red\n",
    "        self.conv1 = Conv2D(32, 3, strides=2, padding=\"same\")\n",
    "        #Normaliza los datos de salida de la red\n",
    "        self.nomalization1 = BatchNormalization()\n",
    "        #Define la función de activación y calcula el valor\n",
    "        #Resulante\n",
    "        self.activation1 = Activation(\"relu\")\n",
    "        #Define una capa que considera el maximo de cierta \n",
    "        #vecindad de pixeles para reducir la imagen\n",
    "        self.maxpooling1 = MaxPooling2D(3, strides=2, padding=\"same\")\n",
    "        #Regularizador de la red que consiste en retirar neuronas\n",
    "        #para la capa indicada obligandoa a realizar una mejor\n",
    "        #generalización\n",
    "        self.dropout1 = Dropout(0.4)\n",
    "        #Capa convolucional con diferentes caracteristicas\n",
    "        self.conv2 = Conv2D(64, 3, strides=2, padding=\"same\")\n",
    "        self.nomalization2 = BatchNormalization()\n",
    "        self.activation2 = Activation(\"relu\")\n",
    "        #Capa entrega el promedio de datos de cierta vecindad\n",
    "        #suavisando la imagen y reduciendola.\n",
    "        self.global_average = GlobalAveragePooling2D()\n",
    "        #self.flatten= Flatten()\n",
    "        #self.d1 = Dense(128, activation='relu')\n",
    "        \n",
    "        #Capa completamente conectada, es decir, es una capa \n",
    "        #para la cual cada neurona esta conectada con todas\n",
    "        #las neuronas de la capa anerior y entrega el resultado\n",
    "        #de la función de activación, por defecto una combinación\n",
    "        #lineal de los datos\n",
    "        self.d2 = Dense(10, activation='softmax')\n",
    "\n",
    "    def call(self,x):\n",
    "        \"\"\"Arquitectura de la red, aqui se trabaja sobre\n",
    "        la imagen con el objetivo de ir reduciendola mediante\n",
    "        distintos metodos en cada uno de las capas de la red, \n",
    "        el resultado final es un array de probabilidades sobre el\n",
    "        cual decidimos como clasificar la imagen.\"\"\"\n",
    "        x = self.conv1(x)\n",
    "        x = self.nomalization1(x)\n",
    "        x = self.activation1(x)\n",
    "        x = self.maxpooling1(x)\n",
    "        x = self.dropout1(x)\n",
    "        x = self.conv2(x)\n",
    "        x = self.nomalization2(x)\n",
    "        x = self.activation2(x)\n",
    "        x = self.global_average(x)\n",
    "        #x = self.flatten(x)\n",
    "        #x = self.d1(x)\n",
    "        return self.d2(x)\n",
    "\n",
    "# crea una instancia del modelo\n",
    "model = MyModel()"
   ]
  },
  {
   "cell_type": "markdown",
   "id": "4ba9c496",
   "metadata": {},
   "source": [
    "Ahora, realizaremos la copilación del modelo escogiendo **la metrica** para medir la perdida y exactitud del modelo. En general, las metricas se definen como la distancia entre la estimación del modelo y el dato real, de modo que los valores de la metrica para cada epoca se van acumulando. \n"
   ]
  },
  {
   "cell_type": "code",
   "execution_count": 7,
   "id": "d049732b",
   "metadata": {},
   "outputs": [],
   "source": [
    "#Escogemos el optimizador: Metodo con el cual ajustamos los parametros\n",
    "#Escogemos la función de perdiada: Entropia cruzada\n",
    "#Escogemos la metrica: Para verificar los resultados de la red\n",
    "model.compile(optimizer= \"Adam\",\n",
    "             loss=\"SparseCategoricalCrossentropy\",\n",
    "             metrics=[\"accuracy\"])"
   ]
  },
  {
   "cell_type": "code",
   "execution_count": 8,
   "id": "e0302488",
   "metadata": {},
   "outputs": [
    {
     "name": "stdout",
     "output_type": "stream",
     "text": [
      "Epoch 1/10\n"
     ]
    },
    {
     "name": "stderr",
     "output_type": "stream",
     "text": [
      "2023-09-29 20:27:09.908644: W external/local_tsl/tsl/framework/cpu_allocator_impl.cc:83] Allocation of 188160000 exceeds 10% of free system memory.\n"
     ]
    },
    {
     "name": "stdout",
     "output_type": "stream",
     "text": [
      "938/938 - 11s - loss: 1.0644 - accuracy: 0.7010 - val_loss: 0.5729 - val_accuracy: 0.8657 - 11s/epoch - 12ms/step\n",
      "Epoch 2/10\n",
      "938/938 - 11s - loss: 0.5043 - accuracy: 0.8708 - val_loss: 0.2991 - val_accuracy: 0.9278 - 11s/epoch - 11ms/step\n",
      "Epoch 3/10\n",
      "938/938 - 10s - loss: 0.3425 - accuracy: 0.9104 - val_loss: 0.2319 - val_accuracy: 0.9403 - 10s/epoch - 11ms/step\n",
      "Epoch 4/10\n",
      "938/938 - 11s - loss: 0.2696 - accuracy: 0.9282 - val_loss: 0.1929 - val_accuracy: 0.9517 - 11s/epoch - 11ms/step\n",
      "Epoch 5/10\n",
      "938/938 - 11s - loss: 0.2323 - accuracy: 0.9371 - val_loss: 0.1492 - val_accuracy: 0.9604 - 11s/epoch - 11ms/step\n",
      "Epoch 6/10\n",
      "938/938 - 11s - loss: 0.2081 - accuracy: 0.9423 - val_loss: 0.1265 - val_accuracy: 0.9639 - 11s/epoch - 11ms/step\n",
      "Epoch 7/10\n",
      "938/938 - 11s - loss: 0.1904 - accuracy: 0.9470 - val_loss: 0.1133 - val_accuracy: 0.9685 - 11s/epoch - 12ms/step\n",
      "Epoch 8/10\n",
      "938/938 - 11s - loss: 0.1758 - accuracy: 0.9505 - val_loss: 0.1108 - val_accuracy: 0.9693 - 11s/epoch - 11ms/step\n",
      "Epoch 9/10\n",
      "938/938 - 10s - loss: 0.1663 - accuracy: 0.9516 - val_loss: 0.1281 - val_accuracy: 0.9642 - 10s/epoch - 11ms/step\n",
      "Epoch 10/10\n",
      "938/938 - 10s - loss: 0.1577 - accuracy: 0.9550 - val_loss: 0.0933 - val_accuracy: 0.9726 - 10s/epoch - 10ms/step\n"
     ]
    }
   ],
   "source": [
    "history = model.fit(x_train, y_train, \n",
    "                    validation_data = (x_test,y_test),\n",
    "                    batch_size = 64,\n",
    "                    shuffle=True,\n",
    "                    verbose=2,\n",
    "                    epochs=10)"
   ]
  },
  {
   "cell_type": "markdown",
   "id": "a22b0064",
   "metadata": {},
   "source": [
    "Una vez realizado el entrenamiento, es de utilidad verificar la historia con el objetivo de analizar el modelo.\n",
    "\n"
   ]
  },
  {
   "cell_type": "code",
   "execution_count": 9,
   "id": "50507e90",
   "metadata": {},
   "outputs": [
    {
     "data": {
      "text/html": [
       "<div>\n",
       "<style scoped>\n",
       "    .dataframe tbody tr th:only-of-type {\n",
       "        vertical-align: middle;\n",
       "    }\n",
       "\n",
       "    .dataframe tbody tr th {\n",
       "        vertical-align: top;\n",
       "    }\n",
       "\n",
       "    .dataframe thead th {\n",
       "        text-align: right;\n",
       "    }\n",
       "</style>\n",
       "<table border=\"1\" class=\"dataframe\">\n",
       "  <thead>\n",
       "    <tr style=\"text-align: right;\">\n",
       "      <th></th>\n",
       "      <th>loss</th>\n",
       "      <th>accuracy</th>\n",
       "      <th>val_loss</th>\n",
       "      <th>val_accuracy</th>\n",
       "      <th>epoch</th>\n",
       "    </tr>\n",
       "  </thead>\n",
       "  <tbody>\n",
       "    <tr>\n",
       "      <th>0</th>\n",
       "      <td>1.064393</td>\n",
       "      <td>0.701050</td>\n",
       "      <td>0.572871</td>\n",
       "      <td>0.8657</td>\n",
       "      <td>0</td>\n",
       "    </tr>\n",
       "    <tr>\n",
       "      <th>1</th>\n",
       "      <td>0.504326</td>\n",
       "      <td>0.870750</td>\n",
       "      <td>0.299080</td>\n",
       "      <td>0.9278</td>\n",
       "      <td>1</td>\n",
       "    </tr>\n",
       "    <tr>\n",
       "      <th>2</th>\n",
       "      <td>0.342542</td>\n",
       "      <td>0.910417</td>\n",
       "      <td>0.231920</td>\n",
       "      <td>0.9403</td>\n",
       "      <td>2</td>\n",
       "    </tr>\n",
       "    <tr>\n",
       "      <th>3</th>\n",
       "      <td>0.269597</td>\n",
       "      <td>0.928200</td>\n",
       "      <td>0.192934</td>\n",
       "      <td>0.9517</td>\n",
       "      <td>3</td>\n",
       "    </tr>\n",
       "    <tr>\n",
       "      <th>4</th>\n",
       "      <td>0.232275</td>\n",
       "      <td>0.937100</td>\n",
       "      <td>0.149201</td>\n",
       "      <td>0.9604</td>\n",
       "      <td>4</td>\n",
       "    </tr>\n",
       "    <tr>\n",
       "      <th>5</th>\n",
       "      <td>0.208052</td>\n",
       "      <td>0.942267</td>\n",
       "      <td>0.126481</td>\n",
       "      <td>0.9639</td>\n",
       "      <td>5</td>\n",
       "    </tr>\n",
       "    <tr>\n",
       "      <th>6</th>\n",
       "      <td>0.190382</td>\n",
       "      <td>0.947033</td>\n",
       "      <td>0.113340</td>\n",
       "      <td>0.9685</td>\n",
       "      <td>6</td>\n",
       "    </tr>\n",
       "    <tr>\n",
       "      <th>7</th>\n",
       "      <td>0.175808</td>\n",
       "      <td>0.950467</td>\n",
       "      <td>0.110751</td>\n",
       "      <td>0.9693</td>\n",
       "      <td>7</td>\n",
       "    </tr>\n",
       "    <tr>\n",
       "      <th>8</th>\n",
       "      <td>0.166299</td>\n",
       "      <td>0.951567</td>\n",
       "      <td>0.128082</td>\n",
       "      <td>0.9642</td>\n",
       "      <td>8</td>\n",
       "    </tr>\n",
       "    <tr>\n",
       "      <th>9</th>\n",
       "      <td>0.157707</td>\n",
       "      <td>0.955033</td>\n",
       "      <td>0.093256</td>\n",
       "      <td>0.9726</td>\n",
       "      <td>9</td>\n",
       "    </tr>\n",
       "  </tbody>\n",
       "</table>\n",
       "</div>"
      ],
      "text/plain": [
       "       loss  accuracy  val_loss  val_accuracy  epoch\n",
       "0  1.064393  0.701050  0.572871        0.8657      0\n",
       "1  0.504326  0.870750  0.299080        0.9278      1\n",
       "2  0.342542  0.910417  0.231920        0.9403      2\n",
       "3  0.269597  0.928200  0.192934        0.9517      3\n",
       "4  0.232275  0.937100  0.149201        0.9604      4\n",
       "5  0.208052  0.942267  0.126481        0.9639      5\n",
       "6  0.190382  0.947033  0.113340        0.9685      6\n",
       "7  0.175808  0.950467  0.110751        0.9693      7\n",
       "8  0.166299  0.951567  0.128082        0.9642      8\n",
       "9  0.157707  0.955033  0.093256        0.9726      9"
      ]
     },
     "execution_count": 9,
     "metadata": {},
     "output_type": "execute_result"
    }
   ],
   "source": [
    "import matplotlib.pyplot as plt\n",
    "import pandas as pd\n",
    "hist = pd.DataFrame(history.history)\n",
    "hist['epoch'] = history.epoch \n",
    "hist"
   ]
  },
  {
   "cell_type": "code",
   "execution_count": 11,
   "id": "caf4775a",
   "metadata": {},
   "outputs": [
    {
     "data": {
      "image/png": "[encoded data removed]",
      "text/plain": [
       "<Figure size 640x480 with 1 Axes>"
      ]
     },
     "metadata": {},
     "output_type": "display_data"
    }
   ],
   "source": [
    "plt.figure()\n",
    "plt.xlabel('Epoca')\n",
    "plt.ylabel('Loss: Entropía cruzada')\n",
    "plt.plot(hist['epoch'], hist['loss'],\n",
    "           label='Error en entrenamiento')\n",
    "plt.plot(hist['epoch'], hist['val_loss'],\n",
    "           label='Error en validación')\n",
    "plt.title('Perdida')\n",
    "plt.ylim([0,0.5])\n",
    "plt.legend()\n",
    "plt.show()"
   ]
  },
  {
   "cell_type": "code",
   "execution_count": 12,
   "id": "e7460653",
   "metadata": {},
   "outputs": [
    {
     "data": {
      "image/png": "[encoded data removed]",
      "text/plain": [
       "<Figure size 640x480 with 1 Axes>"
      ]
     },
     "metadata": {},
     "output_type": "display_data"
    }
   ],
   "source": [
    "plt.figure()\n",
    "plt.xlabel('Epoca')\n",
    "plt.ylabel('Exactitud')\n",
    "plt.plot(hist['epoch'], hist['accuracy'],\n",
    "           label='Exactitud en entrenamiento')\n",
    "plt.plot(hist['epoch'], hist['val_accuracy'],\n",
    "           label='Exactitud en validación')\n",
    "plt.title('Exactitud')\n",
    "plt.ylim([0.7,1])\n",
    "plt.legend()\n",
    "plt.show()"
   ]
  },
  {
   "cell_type": "code",
   "execution_count": 13,
   "id": "2a748093",
   "metadata": {},
   "outputs": [
    {
     "name": "stdout",
     "output_type": "stream",
     "text": [
      "Model: \"my_model\"\n",
      "_________________________________________________________________\n",
      " Layer (type)                Output Shape              Param #   \n",
      "=================================================================\n",
      " conv2d (Conv2D)             multiple                  320       \n",
      "                                                                 \n",
      " batch_normalization (Batch  multiple                  128       \n",
      " Normalization)                                                  \n",
      "                                                                 \n",
      " activation (Activation)     multiple                  0         \n",
      "                                                                 \n",
      " max_pooling2d (MaxPooling2  multiple                  0         \n",
      " D)                                                              \n",
      "                                                                 \n",
      " dropout (Dropout)           multiple                  0         \n",
      "                                                                 \n",
      " conv2d_1 (Conv2D)           multiple                  18496     \n",
      "                                                                 \n",
      " batch_normalization_1 (Bat  multiple                  256       \n",
      " chNormalization)                                                \n",
      "                                                                 \n",
      " activation_1 (Activation)   multiple                  0         \n",
      "                                                                 \n",
      " global_average_pooling2d (  multiple                  0         \n",
      " GlobalAveragePooling2D)                                         \n",
      "                                                                 \n",
      " dense (Dense)               multiple                  650       \n",
      "                                                                 \n",
      "=================================================================\n",
      "Total params: 19850 (77.54 KB)\n",
      "Trainable params: 19658 (76.79 KB)\n",
      "Non-trainable params: 192 (768.00 Byte)\n",
      "_________________________________________________________________\n"
     ]
    }
   ],
   "source": [
    "model.summary()"
   ]
  },
  {
   "cell_type": "markdown",
   "id": "695f396a",
   "metadata": {},
   "source": [
    "## Regresión Básica\n",
    "Cuando tenemos un problema de regresión, lo que estamos realizando es la predicción de un valor continuo como lo puede ser la probabilidad de un precio. En contraste de un problema de clasificación, en donde tratamos de selecciónar una clase de una lista de clase.\n",
    "\n",
    "Teniendo en cuenta lo anterior, ahora realizaremos un codigo en python utilizando tensorflow con el fin de aprender a realizar regresiónes, para esto, se utilizara el data set [Auto MPG](https://archive.ics.uci.edu/dataset/9/auto+mpg)\n",
    "\n",
    "\n",
    "## Librerias:\n",
    "Las librerias utilizadas para esta practica seran:\n",
    "* **Tensorflow**, el cual es una libreria para realizar Machine Learining en python, cargando una gran cantidad de material estadistico."
   ]
  },
  {
   "cell_type": "code",
   "execution_count": null,
   "id": "18e83f53",
   "metadata": {},
   "outputs": [],
   "source": []
  }
 ],
 "metadata": {
  "kernelspec": {
   "display_name": "Python 3 (ipykernel)",
   "language": "python",
   "name": "python3"
  },
  "language_info": {
   "codemirror_mode": {
    "name": "ipython",
    "version": 3
   },
   "file_extension": ".py",
   "mimetype": "text/x-python",
   "name": "python",
   "nbconvert_exporter": "python",
   "pygments_lexer": "ipython3",
   "version": "3.9.13"
  }
 },
 "nbformat": 4,
 "nbformat_minor": 5
}
