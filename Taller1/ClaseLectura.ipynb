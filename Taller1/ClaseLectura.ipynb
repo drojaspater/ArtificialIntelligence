{
 "cells": [
  {
   "cell_type": "markdown",
   "id": "c102f2c8",
   "metadata": {},
   "source": [
    "# <center> ***Taller 1: Programación*** </center>\n",
    "###  Daniel Felipe Rojas Paternina                      \n",
    "1. Consiga el conjunto de datos iris.csv. (ver enlace adjunto)\n",
    "2. Escriba una clase iterable que tenga la siguiente funcionalidad:\n",
    "\n",
    "    * Al instanciar un objeto, lee el archivo de datos y lo coloca en un dataframe interno en la clase.\n",
    "    \n",
    "    * Cada vez que se le pidan datos, debe regresar los dos siguientes datos.\n",
    "    * Imprima \"error\" si los datos se han agotado.\n"
   ]
  },
  {
   "cell_type": "code",
   "execution_count": 1,
   "id": "e2f04d86",
   "metadata": {},
   "outputs": [],
   "source": [
    "#Librerias\n",
    "import numpy as np\n",
    "import pandas as pd"
   ]
  },
  {
   "cell_type": "code",
   "execution_count": 2,
   "id": "b2054a47",
   "metadata": {},
   "outputs": [],
   "source": [
    "#Objeto Lectura\n",
    "class Lecture:\n",
    "    '''Esta clase nos ayuda a leer datos de dataframes\n",
    "       de pandas y escoger datos cuando los necesitamos'''\n",
    "    def __init__(self,DataName,n):\n",
    "        '''DataName: String con la dirección y nombre \n",
    "           del csv'''\n",
    "        #número de la fila en la que se encuentran\n",
    "        #los datos, igual a al Id-1 de la información.\n",
    "        self.n = n \n",
    "        #Se guardan los datos en el objeto\n",
    "        self.data = pd.read_csv(DataName)\n",
    "        #Se guarda la cantidad de datos en el objeto\n",
    "        self.LenData = len(self.data) \n",
    "        #Termino de conteo para detener iteración\n",
    "        self.m = 0\n",
    "    \n",
    "    def __iter__(self):\n",
    "        return self\n",
    "            \n",
    "    def __next__(self):\n",
    "        '''Este metodo devuelve los dos siguientes datos\n",
    "           al solicitado, siendo guardados en la vairable\n",
    "           global NewData para cuando sean requeridos.\n",
    "           Cuando se esta fuera del rango del dataframe\n",
    "           retorna error'''\n",
    "        if self.n <= self.LenData - 3 and self.m <3: \n",
    "            ##Caso en que todos los datos estan en el rango\n",
    "            \n",
    "            #Fila del dataframe\n",
    "            self.ListND = np.array(self.data.iloc[self.n+self.m])\n",
    "            #Conteo para iteranción\n",
    "            self.m +=1\n",
    "            #Se retorna la fila\n",
    "            return self.ListND\n",
    "            \n",
    "        elif self.n == self.LenData - 2 and self.m <=2:\n",
    "            ##Caso en que un dato queda fuera de rango\n",
    "            if self.m == 0:\n",
    "                self.ListND = np.array(self.data.iloc[self.n+self.m])\n",
    "                #Conteo para iteranción\n",
    "                self.m += 1\n",
    "                #Se retorna la fila\n",
    "                return self.ListND\n",
    "            elif self.m == 1:\n",
    "                self.ListND = np.array(self.data.iloc[self.n+self.m])\n",
    "                #Conteo para iteranción\n",
    "                self.m += 1\n",
    "                #Se retorna la fila\n",
    "                return self.ListND\n",
    "            elif self.m == 2:\n",
    "                #Conteo para iteranción\n",
    "                self.m += 1\n",
    "                #Se retorna el error\n",
    "                raise TypeError('Error: One data out of range')\n",
    "            else:\n",
    "                #Se detiene iteración\n",
    "                raise StopIteration\n",
    "\n",
    "        elif self.n == self.LenData - 1 and self.m <=1:\n",
    "            ##Caso en que dos datos quedan fuera de rango\n",
    "            if self.m == 0:\n",
    "                self.ListND = np.array(self.data.iloc[self.n+self.m])\n",
    "                #Conteo para iteranción\n",
    "                self.m += 1\n",
    "                #Se retorna la fila\n",
    "                return self.ListND\n",
    "            elif self.m == 1:\n",
    "                #Conteo para iteranción\n",
    "                self.m += 1\n",
    "                #Se retorna el error\n",
    "                raise TypeError('Error: Two data out of range') \n",
    "            else:\n",
    "                #Se detiene iteración\n",
    "                raise StopIteration\n",
    "        \n",
    "        elif self.n >= self.LenData and self.m ==0:\n",
    "            ##Caso en que todos los datos estan fuera de rango\n",
    "            #Conteo para iteranción\n",
    "            self.m +=1\n",
    "            #Se retorna el error\n",
    "            raise TypeError('Error: Data out of range')\n",
    "            \n",
    "        else:\n",
    "            #Se detiene iteración\n",
    "            raise StopIteration\n",
    "          "
   ]
  },
  {
   "cell_type": "code",
   "execution_count": 3,
   "id": "82987d18",
   "metadata": {
    "scrolled": true
   },
   "outputs": [],
   "source": [
    "#Ruta del DataFrame\n",
    "ruta = '/home/pater/Desktop/CosasPater/UNAL/2023-02NovenoSemestre/IA/Taller1/Iris.csv'"
   ]
  },
  {
   "cell_type": "code",
   "execution_count": 4,
   "id": "014cba0f",
   "metadata": {
    "scrolled": true
   },
   "outputs": [
    {
     "name": "stdout",
     "output_type": "stream",
     "text": [
      "[148 6.5 3.0 5.2 2.0 'Iris-virginica']\n",
      "[149 6.2 3.4 5.4 2.3 'Iris-virginica']\n",
      "[150 5.9 3.0 5.1 1.8 'Iris-virginica']\n"
     ]
    }
   ],
   "source": [
    "#Cración del objeto\n",
    "ClassData = Lecture(ruta,147)\n",
    "#Se comprueba que el resultado sea un iterable\n",
    "for i in ClassData:\n",
    "    print(i)"
   ]
  },
  {
   "cell_type": "code",
   "execution_count": 5,
   "id": "278a7dee",
   "metadata": {},
   "outputs": [
    {
     "name": "stdout",
     "output_type": "stream",
     "text": [
      "[149 6.2 3.4 5.4 2.3 'Iris-virginica']\n",
      "[150 5.9 3.0 5.1 1.8 'Iris-virginica']\n"
     ]
    },
    {
     "ename": "TypeError",
     "evalue": "Error: One data out of range",
     "output_type": "error",
     "traceback": [
      "\u001b[0;31m---------------------------------------------------------------------------\u001b[0m",
      "\u001b[0;31mTypeError\u001b[0m                                 Traceback (most recent call last)",
      "\u001b[0;32m/tmp/ipykernel_19141/3754434117.py\u001b[0m in \u001b[0;36m<module>\u001b[0;34m\u001b[0m\n\u001b[1;32m      2\u001b[0m \u001b[0mClassData\u001b[0m \u001b[0;34m=\u001b[0m \u001b[0mLecture\u001b[0m\u001b[0;34m(\u001b[0m\u001b[0mruta\u001b[0m\u001b[0;34m,\u001b[0m\u001b[0;36m148\u001b[0m\u001b[0;34m)\u001b[0m\u001b[0;34m\u001b[0m\u001b[0;34m\u001b[0m\u001b[0m\n\u001b[1;32m      3\u001b[0m \u001b[0;31m#Datos que no quedaron fuera del rango se guardan como iterables\u001b[0m\u001b[0;34m\u001b[0m\u001b[0;34m\u001b[0m\u001b[0m\n\u001b[0;32m----> 4\u001b[0;31m \u001b[0;32mfor\u001b[0m \u001b[0mi\u001b[0m \u001b[0;32min\u001b[0m \u001b[0mClassData\u001b[0m\u001b[0;34m:\u001b[0m\u001b[0;34m\u001b[0m\u001b[0;34m\u001b[0m\u001b[0m\n\u001b[0m\u001b[1;32m      5\u001b[0m     \u001b[0mprint\u001b[0m\u001b[0;34m(\u001b[0m\u001b[0mi\u001b[0m\u001b[0;34m)\u001b[0m\u001b[0;34m\u001b[0m\u001b[0;34m\u001b[0m\u001b[0m\n",
      "\u001b[0;32m/tmp/ipykernel_19141/47309370.py\u001b[0m in \u001b[0;36m__next__\u001b[0;34m(self)\u001b[0m\n\u001b[1;32m     40\u001b[0m             \u001b[0;32melif\u001b[0m \u001b[0mself\u001b[0m\u001b[0;34m.\u001b[0m\u001b[0mm\u001b[0m \u001b[0;34m==\u001b[0m \u001b[0;36m2\u001b[0m\u001b[0;34m:\u001b[0m\u001b[0;34m\u001b[0m\u001b[0;34m\u001b[0m\u001b[0m\n\u001b[1;32m     41\u001b[0m                 \u001b[0mself\u001b[0m\u001b[0;34m.\u001b[0m\u001b[0mm\u001b[0m \u001b[0;34m+=\u001b[0m \u001b[0;36m1\u001b[0m\u001b[0;34m\u001b[0m\u001b[0;34m\u001b[0m\u001b[0m\n\u001b[0;32m---> 42\u001b[0;31m                 \u001b[0;32mraise\u001b[0m \u001b[0mTypeError\u001b[0m\u001b[0;34m(\u001b[0m\u001b[0;34m'Error: One data out of range'\u001b[0m\u001b[0;34m)\u001b[0m\u001b[0;34m\u001b[0m\u001b[0;34m\u001b[0m\u001b[0m\n\u001b[0m\u001b[1;32m     43\u001b[0m             \u001b[0;32melse\u001b[0m\u001b[0;34m:\u001b[0m\u001b[0;34m\u001b[0m\u001b[0;34m\u001b[0m\u001b[0m\n\u001b[1;32m     44\u001b[0m                 \u001b[0;32mraise\u001b[0m \u001b[0mStopIteration\u001b[0m\u001b[0;34m\u001b[0m\u001b[0;34m\u001b[0m\u001b[0m\n",
      "\u001b[0;31mTypeError\u001b[0m: Error: One data out of range"
     ]
    }
   ],
   "source": [
    "#Cración del objeto\n",
    "ClassData = Lecture(ruta,148)\n",
    "#Datos que no quedaron fuera del rango se guardan como iterables y luego se produce error\n",
    "for i in ClassData:\n",
    "    print(i)"
   ]
  },
  {
   "cell_type": "code",
   "execution_count": 6,
   "id": "05ca7a52",
   "metadata": {},
   "outputs": [
    {
     "name": "stdout",
     "output_type": "stream",
     "text": [
      "[150 5.9 3.0 5.1 1.8 'Iris-virginica']\n"
     ]
    },
    {
     "ename": "TypeError",
     "evalue": "Error: Two data out of range",
     "output_type": "error",
     "traceback": [
      "\u001b[0;31m---------------------------------------------------------------------------\u001b[0m",
      "\u001b[0;31mTypeError\u001b[0m                                 Traceback (most recent call last)",
      "\u001b[0;32m/tmp/ipykernel_19141/3651378090.py\u001b[0m in \u001b[0;36m<module>\u001b[0;34m\u001b[0m\n\u001b[1;32m      2\u001b[0m \u001b[0mClassData\u001b[0m \u001b[0;34m=\u001b[0m \u001b[0mLecture\u001b[0m\u001b[0;34m(\u001b[0m\u001b[0mruta\u001b[0m\u001b[0;34m,\u001b[0m\u001b[0;36m149\u001b[0m\u001b[0;34m)\u001b[0m\u001b[0;34m\u001b[0m\u001b[0;34m\u001b[0m\u001b[0m\n\u001b[1;32m      3\u001b[0m \u001b[0;31m#Datos que no quedaron fuera del rango se guardan como iterables\u001b[0m\u001b[0;34m\u001b[0m\u001b[0;34m\u001b[0m\u001b[0m\n\u001b[0;32m----> 4\u001b[0;31m \u001b[0;32mfor\u001b[0m \u001b[0mi\u001b[0m \u001b[0;32min\u001b[0m \u001b[0mClassData\u001b[0m\u001b[0;34m:\u001b[0m\u001b[0;34m\u001b[0m\u001b[0;34m\u001b[0m\u001b[0m\n\u001b[0m\u001b[1;32m      5\u001b[0m     \u001b[0mprint\u001b[0m\u001b[0;34m(\u001b[0m\u001b[0mi\u001b[0m\u001b[0;34m)\u001b[0m\u001b[0;34m\u001b[0m\u001b[0;34m\u001b[0m\u001b[0m\n",
      "\u001b[0;32m/tmp/ipykernel_19141/47309370.py\u001b[0m in \u001b[0;36m__next__\u001b[0;34m(self)\u001b[0m\n\u001b[1;32m     51\u001b[0m             \u001b[0;32melif\u001b[0m \u001b[0mself\u001b[0m\u001b[0;34m.\u001b[0m\u001b[0mm\u001b[0m \u001b[0;34m==\u001b[0m \u001b[0;36m1\u001b[0m\u001b[0;34m:\u001b[0m\u001b[0;34m\u001b[0m\u001b[0;34m\u001b[0m\u001b[0m\n\u001b[1;32m     52\u001b[0m                 \u001b[0mself\u001b[0m\u001b[0;34m.\u001b[0m\u001b[0mm\u001b[0m \u001b[0;34m+=\u001b[0m \u001b[0;36m1\u001b[0m\u001b[0;34m\u001b[0m\u001b[0;34m\u001b[0m\u001b[0m\n\u001b[0;32m---> 53\u001b[0;31m                 \u001b[0;32mraise\u001b[0m \u001b[0mTypeError\u001b[0m\u001b[0;34m(\u001b[0m\u001b[0;34m'Error: Two data out of range'\u001b[0m\u001b[0;34m)\u001b[0m\u001b[0;34m\u001b[0m\u001b[0;34m\u001b[0m\u001b[0m\n\u001b[0m\u001b[1;32m     54\u001b[0m             \u001b[0;32melse\u001b[0m\u001b[0;34m:\u001b[0m\u001b[0;34m\u001b[0m\u001b[0;34m\u001b[0m\u001b[0m\n\u001b[1;32m     55\u001b[0m                 \u001b[0;32mraise\u001b[0m \u001b[0mStopIteration\u001b[0m\u001b[0;34m\u001b[0m\u001b[0;34m\u001b[0m\u001b[0m\n",
      "\u001b[0;31mTypeError\u001b[0m: Error: Two data out of range"
     ]
    }
   ],
   "source": [
    "#Cración del objeto\n",
    "ClassData = Lecture(ruta,149)\n",
    "#Datos que no quedaron fuera del rango se guardan como iterables y luego se produce error\n",
    "for i in ClassData:\n",
    "    print(i)"
   ]
  },
  {
   "cell_type": "code",
   "execution_count": 7,
   "id": "c243adab",
   "metadata": {},
   "outputs": [
    {
     "ename": "TypeError",
     "evalue": "Error: Data out of range",
     "output_type": "error",
     "traceback": [
      "\u001b[0;31m---------------------------------------------------------------------------\u001b[0m",
      "\u001b[0;31mTypeError\u001b[0m                                 Traceback (most recent call last)",
      "\u001b[0;32m/tmp/ipykernel_19141/2238478495.py\u001b[0m in \u001b[0;36m<module>\u001b[0;34m\u001b[0m\n\u001b[1;32m      2\u001b[0m \u001b[0mClassData\u001b[0m \u001b[0;34m=\u001b[0m \u001b[0mLecture\u001b[0m\u001b[0;34m(\u001b[0m\u001b[0mruta\u001b[0m\u001b[0;34m,\u001b[0m\u001b[0;36m150\u001b[0m\u001b[0;34m)\u001b[0m\u001b[0;34m\u001b[0m\u001b[0;34m\u001b[0m\u001b[0m\n\u001b[1;32m      3\u001b[0m \u001b[0;31m#Datos que no quedaron fuera del rango se guardan como iterables\u001b[0m\u001b[0;34m\u001b[0m\u001b[0;34m\u001b[0m\u001b[0m\n\u001b[0;32m----> 4\u001b[0;31m \u001b[0;32mfor\u001b[0m \u001b[0mi\u001b[0m \u001b[0;32min\u001b[0m \u001b[0mClassData\u001b[0m\u001b[0;34m:\u001b[0m\u001b[0;34m\u001b[0m\u001b[0;34m\u001b[0m\u001b[0m\n\u001b[0m\u001b[1;32m      5\u001b[0m     \u001b[0mprint\u001b[0m\u001b[0;34m(\u001b[0m\u001b[0mi\u001b[0m\u001b[0;34m)\u001b[0m\u001b[0;34m\u001b[0m\u001b[0;34m\u001b[0m\u001b[0m\n",
      "\u001b[0;32m/tmp/ipykernel_19141/47309370.py\u001b[0m in \u001b[0;36m__next__\u001b[0;34m(self)\u001b[0m\n\u001b[1;32m     57\u001b[0m         \u001b[0;32melif\u001b[0m \u001b[0mself\u001b[0m\u001b[0;34m.\u001b[0m\u001b[0mn\u001b[0m \u001b[0;34m>=\u001b[0m \u001b[0mself\u001b[0m\u001b[0;34m.\u001b[0m\u001b[0mLenData\u001b[0m \u001b[0;32mand\u001b[0m \u001b[0mself\u001b[0m\u001b[0;34m.\u001b[0m\u001b[0mm\u001b[0m \u001b[0;34m==\u001b[0m\u001b[0;36m0\u001b[0m\u001b[0;34m:\u001b[0m\u001b[0;34m\u001b[0m\u001b[0;34m\u001b[0m\u001b[0m\n\u001b[1;32m     58\u001b[0m             \u001b[0mself\u001b[0m\u001b[0;34m.\u001b[0m\u001b[0mm\u001b[0m \u001b[0;34m+=\u001b[0m\u001b[0;36m1\u001b[0m\u001b[0;34m\u001b[0m\u001b[0;34m\u001b[0m\u001b[0m\n\u001b[0;32m---> 59\u001b[0;31m             \u001b[0;32mraise\u001b[0m \u001b[0mTypeError\u001b[0m\u001b[0;34m(\u001b[0m\u001b[0;34m'Error: Data out of range'\u001b[0m\u001b[0;34m)\u001b[0m\u001b[0;34m\u001b[0m\u001b[0;34m\u001b[0m\u001b[0m\n\u001b[0m\u001b[1;32m     60\u001b[0m \u001b[0;34m\u001b[0m\u001b[0m\n\u001b[1;32m     61\u001b[0m         \u001b[0;32melse\u001b[0m\u001b[0;34m:\u001b[0m\u001b[0;34m\u001b[0m\u001b[0;34m\u001b[0m\u001b[0m\n",
      "\u001b[0;31mTypeError\u001b[0m: Error: Data out of range"
     ]
    }
   ],
   "source": [
    "#Cración del objeto\n",
    "ClassData = Lecture(ruta,150)\n",
    "#Datos que no quedaron fuera del rango se guardan como iterables y luego se produce error\n",
    "for i in ClassData:\n",
    "    print(i)"
   ]
  },
  {
   "cell_type": "code",
   "execution_count": null,
   "id": "6e78c585",
   "metadata": {},
   "outputs": [],
   "source": []
  }
 ],
 "metadata": {
  "kernelspec": {
   "display_name": "Python 3 (ipykernel)",
   "language": "python",
   "name": "python3"
  },
  "language_info": {
   "codemirror_mode": {
    "name": "ipython",
    "version": 3
   },
   "file_extension": ".py",
   "mimetype": "text/x-python",
   "name": "python",
   "nbconvert_exporter": "python",
   "pygments_lexer": "ipython3",
   "version": "3.9.13"
  }
 },
 "nbformat": 4,
 "nbformat_minor": 5
}
