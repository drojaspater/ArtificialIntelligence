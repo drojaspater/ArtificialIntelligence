{
 "cells": [
  {
   "cell_type": "markdown",
   "id": "5f43d283",
   "metadata": {},
   "source": [
    "# Tarea 1. Programación\n",
    "\n",
    "3. Escriba una clase con las siguientes funcionalidades:\n",
    "    * Al instanciar un objeto, lee un conjunto de datos numéricos. Por ejemplo puede usar el mismo conjunto de datos iris.csv. Instancie los datos en un dataframe de Pandas.\n",
    "    * Implemente un método que calcule las estadísticas descriptivas básicas de cada una de las variables (sepal.length, sepal.width, petal.length, etc)\n",
    "    * Implemente un método que entregue los nombre de las variables disponibles.\n",
    "    * Implemente un método que reciba el nombre de una variable disponible dentro del objeto (en el dataframe) y regrese: sus estadísticas básicas: media, mediana, desviación, percentiles q25, q50, q75 y dibuje un histograma de la distribución de la variable.\n"
   ]
  },
  {
   "cell_type": "code",
   "execution_count": 1,
   "id": "51f20ed0",
   "metadata": {},
   "outputs": [],
   "source": [
    "#Librerias\n",
    "import numpy  as np\n",
    "import pandas as pd\n",
    "import matplotlib.pyplot as plt\n",
    "#Objeto\n",
    "class Statistical:\n",
    "    def __init__(self,DataName):\n",
    "        '''DataName: String con la dirección y nombre \n",
    "                     del csv que se desea utilizar.\n",
    "           El archivo CSV debe tener una columna inicial\n",
    "           con el Id.\n",
    "           Se crean dos data frames de pandas, uno con\n",
    "           los datos originales y otro solo con los datos\n",
    "           numéricos.\n",
    "           '''\n",
    "        #Se guardan los datos en el objeto, separando los \n",
    "        #numéricos de los originales\n",
    "        self.data  = pd.read_csv(DataName)\n",
    "        self.NData = pd.read_csv(DataName)._get_numeric_data()\n",
    "        \n",
    "        #Se borra los datos de Id\n",
    "        self.NData.drop(self.NData.columns[0],axis=1,inplace= True)\n",
    "\n",
    "        #Se guarda la cantidad de datos en el objeto\n",
    "        self.LenData = len(self.data) \n",
    "        \n",
    "\n",
    "    def BasicStatistics(self):\n",
    "        '''Este método realiza la estadistica basica de las\n",
    "           variables númericas y las guarda en un Data frame'''\n",
    "        #Se encuentra el nombre de las columnas\n",
    "        LNames = self.Name()\n",
    "        #Se crea un dataframe nuevo\n",
    "        self.Statistics = pd.DataFrame()\n",
    "        \n",
    "        #Se realiza la estadistica por culumna y se agregan los datos\n",
    "        for name in LNames:\n",
    "            DataArray = self.NData[name]\n",
    "            \n",
    "            media   = DataArray.mean()\n",
    "            mediana = DataArray.median()\n",
    "            q25     = DataArray.quantile(0.25)\n",
    "            q75     = DataArray.quantile(0.75)\n",
    "            Min     = np.min(DataArray)\n",
    "            Max     = np.amax(DataArray)\n",
    "\n",
    "            self.Statistics[name] = [media,mediana,q25,q75,Min,Max]\n",
    "        #Filas del data Frame \n",
    "        self.Statistics.index = ['media','mediana','q25',\n",
    "                                 'q75','Minimo','Máximo']\n",
    "        return self.Statistics\n",
    "    \n",
    "    def Name(self):\n",
    "        '''Este método Devuelve una lista con los nombres\n",
    "           de las variables númericas en el data frame'''\n",
    "        \n",
    "        self.columns_names = self.NData.columns.values\n",
    "        return self.columns_names\n",
    "        \n",
    "    def GE(self,name):\n",
    "        ''' name: Nombre de la varibale numérica\n",
    "            Este método pide el nombre de la variable\n",
    "            que se desea utilizar y devuelve la estadistica\n",
    "            de la variable y un histograma del mismo.'''\n",
    "        \n",
    "\n",
    "        #Se guarda la estadistica de la variable de interes\n",
    "        self.OneData = self.BasicStatistics()[name]\n",
    "        \n",
    "        \n",
    "        #Se crea el hisgroma\n",
    "        fig, ax = plt.subplots()\n",
    "        ax.hist(self.NData[name], color = \"Darkred\")\n",
    "        ax.set_xlabel('valores numéricos')\n",
    "        ax.set_ylabel('Frecuencia')\n",
    "        ax.set_title(name)\n",
    "        \n",
    "        #Se devuelve la estadistica y el histograma\n",
    "        return self.OneData, plt.show(fig)"
   ]
  },
  {
   "cell_type": "code",
   "execution_count": 2,
   "id": "d0e7fcf1",
   "metadata": {},
   "outputs": [
    {
     "data": {
      "text/html": [
       "<div>\n",
       "<style scoped>\n",
       "    .dataframe tbody tr th:only-of-type {\n",
       "        vertical-align: middle;\n",
       "    }\n",
       "\n",
       "    .dataframe tbody tr th {\n",
       "        vertical-align: top;\n",
       "    }\n",
       "\n",
       "    .dataframe thead th {\n",
       "        text-align: right;\n",
       "    }\n",
       "</style>\n",
       "<table border=\"1\" class=\"dataframe\">\n",
       "  <thead>\n",
       "    <tr style=\"text-align: right;\">\n",
       "      <th></th>\n",
       "      <th>SepalLengthCm</th>\n",
       "      <th>SepalWidthCm</th>\n",
       "      <th>PetalLengthCm</th>\n",
       "      <th>PetalWidthCm</th>\n",
       "    </tr>\n",
       "  </thead>\n",
       "  <tbody>\n",
       "    <tr>\n",
       "      <th>0</th>\n",
       "      <td>5.1</td>\n",
       "      <td>3.5</td>\n",
       "      <td>1.4</td>\n",
       "      <td>0.2</td>\n",
       "    </tr>\n",
       "    <tr>\n",
       "      <th>1</th>\n",
       "      <td>4.9</td>\n",
       "      <td>3.0</td>\n",
       "      <td>1.4</td>\n",
       "      <td>0.2</td>\n",
       "    </tr>\n",
       "    <tr>\n",
       "      <th>2</th>\n",
       "      <td>4.7</td>\n",
       "      <td>3.2</td>\n",
       "      <td>1.3</td>\n",
       "      <td>0.2</td>\n",
       "    </tr>\n",
       "    <tr>\n",
       "      <th>3</th>\n",
       "      <td>4.6</td>\n",
       "      <td>3.1</td>\n",
       "      <td>1.5</td>\n",
       "      <td>0.2</td>\n",
       "    </tr>\n",
       "    <tr>\n",
       "      <th>4</th>\n",
       "      <td>5.0</td>\n",
       "      <td>3.6</td>\n",
       "      <td>1.4</td>\n",
       "      <td>0.2</td>\n",
       "    </tr>\n",
       "    <tr>\n",
       "      <th>...</th>\n",
       "      <td>...</td>\n",
       "      <td>...</td>\n",
       "      <td>...</td>\n",
       "      <td>...</td>\n",
       "    </tr>\n",
       "    <tr>\n",
       "      <th>145</th>\n",
       "      <td>6.7</td>\n",
       "      <td>3.0</td>\n",
       "      <td>5.2</td>\n",
       "      <td>2.3</td>\n",
       "    </tr>\n",
       "    <tr>\n",
       "      <th>146</th>\n",
       "      <td>6.3</td>\n",
       "      <td>2.5</td>\n",
       "      <td>5.0</td>\n",
       "      <td>1.9</td>\n",
       "    </tr>\n",
       "    <tr>\n",
       "      <th>147</th>\n",
       "      <td>6.5</td>\n",
       "      <td>3.0</td>\n",
       "      <td>5.2</td>\n",
       "      <td>2.0</td>\n",
       "    </tr>\n",
       "    <tr>\n",
       "      <th>148</th>\n",
       "      <td>6.2</td>\n",
       "      <td>3.4</td>\n",
       "      <td>5.4</td>\n",
       "      <td>2.3</td>\n",
       "    </tr>\n",
       "    <tr>\n",
       "      <th>149</th>\n",
       "      <td>5.9</td>\n",
       "      <td>3.0</td>\n",
       "      <td>5.1</td>\n",
       "      <td>1.8</td>\n",
       "    </tr>\n",
       "  </tbody>\n",
       "</table>\n",
       "<p>150 rows × 4 columns</p>\n",
       "</div>"
      ],
      "text/plain": [
       "     SepalLengthCm  SepalWidthCm  PetalLengthCm  PetalWidthCm\n",
       "0              5.1           3.5            1.4           0.2\n",
       "1              4.9           3.0            1.4           0.2\n",
       "2              4.7           3.2            1.3           0.2\n",
       "3              4.6           3.1            1.5           0.2\n",
       "4              5.0           3.6            1.4           0.2\n",
       "..             ...           ...            ...           ...\n",
       "145            6.7           3.0            5.2           2.3\n",
       "146            6.3           2.5            5.0           1.9\n",
       "147            6.5           3.0            5.2           2.0\n",
       "148            6.2           3.4            5.4           2.3\n",
       "149            5.9           3.0            5.1           1.8\n",
       "\n",
       "[150 rows x 4 columns]"
      ]
     },
     "execution_count": 2,
     "metadata": {},
     "output_type": "execute_result"
    }
   ],
   "source": [
    "#Ruta del DataFrame y creación de objeto\n",
    "ruta = '/home/pater/Desktop/CosasPater/UNAL/2023-02NovenoSemestre/IA/StatisticalObject/Iris.csv'\n",
    "ClassData = Statistical(ruta)\n",
    "ClassData.NData"
   ]
  },
  {
   "cell_type": "code",
   "execution_count": 3,
   "id": "b6a5eb8d",
   "metadata": {},
   "outputs": [
    {
     "data": {
      "text/html": [
       "<div>\n",
       "<style scoped>\n",
       "    .dataframe tbody tr th:only-of-type {\n",
       "        vertical-align: middle;\n",
       "    }\n",
       "\n",
       "    .dataframe tbody tr th {\n",
       "        vertical-align: top;\n",
       "    }\n",
       "\n",
       "    .dataframe thead th {\n",
       "        text-align: right;\n",
       "    }\n",
       "</style>\n",
       "<table border=\"1\" class=\"dataframe\">\n",
       "  <thead>\n",
       "    <tr style=\"text-align: right;\">\n",
       "      <th></th>\n",
       "      <th>SepalLengthCm</th>\n",
       "      <th>SepalWidthCm</th>\n",
       "      <th>PetalLengthCm</th>\n",
       "      <th>PetalWidthCm</th>\n",
       "    </tr>\n",
       "  </thead>\n",
       "  <tbody>\n",
       "    <tr>\n",
       "      <th>media</th>\n",
       "      <td>5.843333</td>\n",
       "      <td>3.054</td>\n",
       "      <td>3.758667</td>\n",
       "      <td>1.198667</td>\n",
       "    </tr>\n",
       "    <tr>\n",
       "      <th>mediana</th>\n",
       "      <td>5.800000</td>\n",
       "      <td>3.000</td>\n",
       "      <td>4.350000</td>\n",
       "      <td>1.300000</td>\n",
       "    </tr>\n",
       "    <tr>\n",
       "      <th>q25</th>\n",
       "      <td>5.100000</td>\n",
       "      <td>2.800</td>\n",
       "      <td>1.600000</td>\n",
       "      <td>0.300000</td>\n",
       "    </tr>\n",
       "    <tr>\n",
       "      <th>q75</th>\n",
       "      <td>6.400000</td>\n",
       "      <td>3.300</td>\n",
       "      <td>5.100000</td>\n",
       "      <td>1.800000</td>\n",
       "    </tr>\n",
       "    <tr>\n",
       "      <th>Minimo</th>\n",
       "      <td>4.300000</td>\n",
       "      <td>2.000</td>\n",
       "      <td>1.000000</td>\n",
       "      <td>0.100000</td>\n",
       "    </tr>\n",
       "    <tr>\n",
       "      <th>Máximo</th>\n",
       "      <td>7.900000</td>\n",
       "      <td>4.400</td>\n",
       "      <td>6.900000</td>\n",
       "      <td>2.500000</td>\n",
       "    </tr>\n",
       "  </tbody>\n",
       "</table>\n",
       "</div>"
      ],
      "text/plain": [
       "         SepalLengthCm  SepalWidthCm  PetalLengthCm  PetalWidthCm\n",
       "media         5.843333         3.054       3.758667      1.198667\n",
       "mediana       5.800000         3.000       4.350000      1.300000\n",
       "q25           5.100000         2.800       1.600000      0.300000\n",
       "q75           6.400000         3.300       5.100000      1.800000\n",
       "Minimo        4.300000         2.000       1.000000      0.100000\n",
       "Máximo        7.900000         4.400       6.900000      2.500000"
      ]
     },
     "execution_count": 3,
     "metadata": {},
     "output_type": "execute_result"
    }
   ],
   "source": [
    "#Se observa la estadistica de las variables numéricas\n",
    "ClassData.BasicStatistics()"
   ]
  },
  {
   "cell_type": "code",
   "execution_count": 4,
   "id": "013d8a7c",
   "metadata": {},
   "outputs": [
    {
     "data": {
      "text/plain": [
       "array(['SepalLengthCm', 'SepalWidthCm', 'PetalLengthCm', 'PetalWidthCm'],\n",
       "      dtype=object)"
      ]
     },
     "execution_count": 4,
     "metadata": {},
     "output_type": "execute_result"
    }
   ],
   "source": [
    "#Se imprimen la lista con los nombres de las variables\n",
    "ClassData.Name()"
   ]
  },
  {
   "cell_type": "markdown",
   "id": "e5b73a10",
   "metadata": {},
   "source": [
    "---\n",
    "## Estadística de las variables numéricas "
   ]
  },
  {
   "cell_type": "code",
   "execution_count": 5,
   "id": "2afa6b41",
   "metadata": {},
   "outputs": [
    {
     "data": {
      "image/png": "[encoded data removed]",
      "text/plain": [
       "<Figure size 640x480 with 1 Axes>"
      ]
     },
     "metadata": {},
     "output_type": "display_data"
    },
    {
     "data": {
      "text/plain": [
       "(media      5.843333\n",
       " mediana    5.800000\n",
       " q25        5.100000\n",
       " q75        6.400000\n",
       " Minimo     4.300000\n",
       " Máximo     7.900000\n",
       " Name: SepalLengthCm, dtype: float64,\n",
       " None)"
      ]
     },
     "execution_count": 5,
     "metadata": {},
     "output_type": "execute_result"
    }
   ],
   "source": [
    "ClassData.Name()\n",
    "names = ClassData.columns_names\n",
    "ClassData.GE(names[0])"
   ]
  },
  {
   "cell_type": "code",
   "execution_count": 6,
   "id": "a41cb9bd",
   "metadata": {},
   "outputs": [
    {
     "data": {
      "image/png": "[encoded data removed]",
      "text/plain": [
       "<Figure size 640x480 with 1 Axes>"
      ]
     },
     "metadata": {},
     "output_type": "display_data"
    },
    {
     "data": {
      "text/plain": [
       "(media      3.054\n",
       " mediana    3.000\n",
       " q25        2.800\n",
       " q75        3.300\n",
       " Minimo     2.000\n",
       " Máximo     4.400\n",
       " Name: SepalWidthCm, dtype: float64,\n",
       " None)"
      ]
     },
     "execution_count": 6,
     "metadata": {},
     "output_type": "execute_result"
    }
   ],
   "source": [
    "ClassData.Name()\n",
    "names = ClassData.columns_names\n",
    "ClassData.GE(names[1])"
   ]
  },
  {
   "cell_type": "code",
   "execution_count": 7,
   "id": "bc8d5146",
   "metadata": {},
   "outputs": [
    {
     "data": {
      "image/png": "[encoded data removed]",
      "text/plain": [
       "<Figure size 640x480 with 1 Axes>"
      ]
     },
     "metadata": {},
     "output_type": "display_data"
    },
    {
     "data": {
      "text/plain": [
       "(media      3.758667\n",
       " mediana    4.350000\n",
       " q25        1.600000\n",
       " q75        5.100000\n",
       " Minimo     1.000000\n",
       " Máximo     6.900000\n",
       " Name: PetalLengthCm, dtype: float64,\n",
       " None)"
      ]
     },
     "execution_count": 7,
     "metadata": {},
     "output_type": "execute_result"
    }
   ],
   "source": [
    "ClassData.Name()\n",
    "names = ClassData.columns_names\n",
    "ClassData.GE(names[2])"
   ]
  },
  {
   "cell_type": "code",
   "execution_count": 8,
   "id": "eb0ec14f",
   "metadata": {},
   "outputs": [
    {
     "data": {
      "image/png": "[encoded data removed]",
      "text/plain": [
       "<Figure size 640x480 with 1 Axes>"
      ]
     },
     "metadata": {},
     "output_type": "display_data"
    },
    {
     "data": {
      "text/plain": [
       "(media      1.198667\n",
       " mediana    1.300000\n",
       " q25        0.300000\n",
       " q75        1.800000\n",
       " Minimo     0.100000\n",
       " Máximo     2.500000\n",
       " Name: PetalWidthCm, dtype: float64,\n",
       " None)"
      ]
     },
     "execution_count": 8,
     "metadata": {},
     "output_type": "execute_result"
    }
   ],
   "source": [
    "ClassData.Name()\n",
    "names = ClassData.columns_names\n",
    "ClassData.GE(names[3])"
   ]
  }
 ],
 "metadata": {
  "kernelspec": {
   "display_name": "Python 3 (ipykernel)",
   "language": "python",
   "name": "python3"
  },
  "language_info": {
   "codemirror_mode": {
    "name": "ipython",
    "version": 3
   },
   "file_extension": ".py",
   "mimetype": "text/x-python",
   "name": "python",
   "nbconvert_exporter": "python",
   "pygments_lexer": "ipython3",
   "version": "3.9.13"
  }
 },
 "nbformat": 4,
 "nbformat_minor": 5
}
